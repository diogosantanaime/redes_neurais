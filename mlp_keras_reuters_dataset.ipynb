{
  "nbformat": 4,
  "nbformat_minor": 0,
  "metadata": {
    "colab": {
      "provenance": [],
      "authorship_tag": "ABX9TyOu1dPgBXg+3WDIEQFCXAfg",
      "include_colab_link": true
    },
    "kernelspec": {
      "name": "python3",
      "display_name": "Python 3"
    },
    "language_info": {
      "name": "python"
    }
  },
  "cells": [
    {
      "cell_type": "markdown",
      "metadata": {
        "id": "view-in-github",
        "colab_type": "text"
      },
      "source": [
        "<a href=\"https://colab.research.google.com/github/diogosantanaime/redes_neurais/blob/main/mlp_keras_reuters_dataset.ipynb\" target=\"_parent\"><img src=\"https://colab.research.google.com/assets/colab-badge.svg\" alt=\"Open In Colab\"/></a>"
      ]
    },
    {
      "cell_type": "markdown",
      "source": [
        "1 -Importação das bibliotecas."
      ],
      "metadata": {
        "id": "d2pb-aeqcaiG"
      }
    },
    {
      "cell_type": "code",
      "source": [
        "import tensorflow as tf\n",
        "from tensorflow import keras\n",
        "from tensorflow.keras.datasets import reuters\n",
        "from tensorflow.keras.models import Sequential\n",
        "from tensorflow.keras.layers import Dense, Dropout, Activation\n",
        "from tensorflow.keras.preprocessing.text import Tokenizer\n"
      ],
      "metadata": {
        "id": "PZ2ziH9xcaK8"
      },
      "execution_count": 35,
      "outputs": []
    },
    {
      "cell_type": "markdown",
      "source": [
        "2 - Leitura do conjunto de dados de treino e teste da Reuters (limitado a 10.000 palavras)."
      ],
      "metadata": {
        "id": "v2cl9PNMY_kX"
      }
    },
    {
      "cell_type": "code",
      "source": [
        "num_words = 10000\n",
        "(x_train, y_train), (x_test, y_test) = reuters.load_data(num_words=num_words)\n"
      ],
      "metadata": {
        "id": "0k8chC46aX85"
      },
      "execution_count": 36,
      "outputs": []
    },
    {
      "cell_type": "markdown",
      "source": [
        "3 - Verificando o formato dos conjunto de dados de treino e teste."
      ],
      "metadata": {
        "id": "DhfI-N83gxNe"
      }
    },
    {
      "cell_type": "code",
      "source": [
        "x_train.shape, y_train.shape, x_test.shape, y_test.shape "
      ],
      "metadata": {
        "colab": {
          "base_uri": "https://localhost:8080/"
        },
        "id": "-DfOaI8ege1z",
        "outputId": "487c8f79-1f43-404b-f391-3478d0d00825"
      },
      "execution_count": 37,
      "outputs": [
        {
          "output_type": "execute_result",
          "data": {
            "text/plain": [
              "((8982,), (8982,), (2246,), (2246,))"
            ]
          },
          "metadata": {},
          "execution_count": 37
        }
      ]
    },
    {
      "cell_type": "markdown",
      "source": [
        "4 - Como o conjunto de dados da Reuters variam de 0 a 45, temos 46 classes no total."
      ],
      "metadata": {
        "id": "UdODkG5Zg307"
      }
    },
    {
      "cell_type": "code",
      "source": [
        "num_classes = max(y_train) + 1"
      ],
      "metadata": {
        "id": "e234EzS7eGrm"
      },
      "execution_count": 38,
      "outputs": []
    },
    {
      "cell_type": "markdown",
      "source": [
        "5 - Cria o objeto 'tokenizer' para converter as sequências de índices de palavras em sequências de vetores binários. "
      ],
      "metadata": {
        "id": "i4ShleSjjKvh"
      }
    },
    {
      "cell_type": "code",
      "source": [
        "tokenizer = Tokenizer(num_words=num_words)\n",
        "\n",
        "x_train = tokenizer.sequences_to_matrix(x_train, mode='binary')\n",
        "x_test = tokenizer.sequences_to_matrix(x_test, mode='binary')"
      ],
      "metadata": {
        "id": "Zc01M-VyjJv5"
      },
      "execution_count": 39,
      "outputs": []
    },
    {
      "cell_type": "markdown",
      "source": [
        "6 - Converte os rótulos de classes em vetores binários."
      ],
      "metadata": {
        "id": "tbi8vomwj7Pu"
      }
    },
    {
      "cell_type": "code",
      "source": [
        "y_train = keras.utils.to_categorical(y_train, num_classes)\n",
        "y_test = keras.utils.to_categorical(y_test, num_classes)"
      ],
      "metadata": {
        "id": "8WkHBj_WfNfe"
      },
      "execution_count": 40,
      "outputs": []
    },
    {
      "cell_type": "markdown",
      "source": [
        "7 - Define o modelo de rede neural com uma camada oculta de 512 neurônios com uma função de ativação Relu, uma camada de Dropout com taxa de 0.5 e uma camada de saída com uma função de ativação Softmax. "
      ],
      "metadata": {
        "id": "2r3GsjM9kTO6"
      }
    },
    {
      "cell_type": "code",
      "source": [
        "model = Sequential()\n",
        "model.add(Dense(512, input_shape=(num_words,), activation='relu'))\n",
        "model.add(Dropout(0.5))\n",
        "model.add(Dense(num_classes, activation='softmax'))\n"
      ],
      "metadata": {
        "id": "_sDfZEmlfTL8"
      },
      "execution_count": 41,
      "outputs": []
    },
    {
      "cell_type": "markdown",
      "source": [
        "8 - Visualizando o resumo do modelo"
      ],
      "metadata": {
        "id": "l3c12iFdmTeV"
      }
    },
    {
      "cell_type": "code",
      "source": [
        "model.summary()"
      ],
      "metadata": {
        "colab": {
          "base_uri": "https://localhost:8080/"
        },
        "id": "jMzPYFMjmOd9",
        "outputId": "607cf840-b611-4761-b17e-251447642c59"
      },
      "execution_count": 42,
      "outputs": [
        {
          "output_type": "stream",
          "name": "stdout",
          "text": [
            "Model: \"sequential_1\"\n",
            "_________________________________________________________________\n",
            " Layer (type)                Output Shape              Param #   \n",
            "=================================================================\n",
            " dense_2 (Dense)             (None, 512)               5120512   \n",
            "                                                                 \n",
            " dropout_1 (Dropout)         (None, 512)               0         \n",
            "                                                                 \n",
            " dense_3 (Dense)             (None, 46)                23598     \n",
            "                                                                 \n",
            "=================================================================\n",
            "Total params: 5,144,110\n",
            "Trainable params: 5,144,110\n",
            "Non-trainable params: 0\n",
            "_________________________________________________________________\n"
          ]
        }
      ]
    },
    {
      "cell_type": "markdown",
      "source": [
        "8 - Compilando o modelo criado para especificar a função de perda e otimizador a ser usado."
      ],
      "metadata": {
        "id": "Dv0aZHE_mDlV"
      }
    },
    {
      "cell_type": "code",
      "source": [
        "model.compile(loss='categorical_crossentropy', optimizer='adam', metrics=['accuracy'])\n"
      ],
      "metadata": {
        "id": "t6cxTeICfeIS"
      },
      "execution_count": 43,
      "outputs": []
    },
    {
      "cell_type": "markdown",
      "source": [
        "9 - Treinamento do modelo."
      ],
      "metadata": {
        "id": "c6wJeZaKnUP-"
      }
    },
    {
      "cell_type": "code",
      "source": [
        "batch_size = 32\n",
        "epochs = 5\n",
        "history = model.fit(x_train, y_train, batch_size=batch_size, epochs=epochs, verbose=1, validation_split=0.1)\n"
      ],
      "metadata": {
        "colab": {
          "base_uri": "https://localhost:8080/"
        },
        "id": "hiHKD8LqfgOk",
        "outputId": "2d5c71e4-8eb6-4650-dc24-7dd19a52238f"
      },
      "execution_count": 44,
      "outputs": [
        {
          "output_type": "stream",
          "name": "stdout",
          "text": [
            "Epoch 1/5\n",
            "253/253 [==============================] - 22s 83ms/step - loss: 1.2810 - accuracy: 0.7204 - val_loss: 0.9760 - val_accuracy: 0.7820\n",
            "Epoch 2/5\n",
            "253/253 [==============================] - 21s 84ms/step - loss: 0.4889 - accuracy: 0.8894 - val_loss: 0.8389 - val_accuracy: 0.8131\n",
            "Epoch 3/5\n",
            "253/253 [==============================] - 21s 82ms/step - loss: 0.2780 - accuracy: 0.9381 - val_loss: 0.9227 - val_accuracy: 0.8154\n",
            "Epoch 4/5\n",
            "253/253 [==============================] - 21s 83ms/step - loss: 0.2156 - accuracy: 0.9493 - val_loss: 0.9426 - val_accuracy: 0.8065\n",
            "Epoch 5/5\n",
            "253/253 [==============================] - 22s 86ms/step - loss: 0.2060 - accuracy: 0.9515 - val_loss: 0.9646 - val_accuracy: 0.8109\n"
          ]
        }
      ]
    },
    {
      "cell_type": "markdown",
      "source": [
        "10 - Avaliando o desempenho do modelo com o conjunto de dados de teste."
      ],
      "metadata": {
        "id": "S81FT3Eyngvi"
      }
    },
    {
      "cell_type": "code",
      "source": [
        "score = model.evaluate(x_test, y_test, batch_size=batch_size, verbose=1)\n",
        "print('Teste de perda:', score[0])\n",
        "print('Teste de acurácia:', score[1])"
      ],
      "metadata": {
        "colab": {
          "base_uri": "https://localhost:8080/"
        },
        "id": "wQwI8hoYgHNS",
        "outputId": "b6fc895d-7b5a-4f11-cc97-b6981fe9b473"
      },
      "execution_count": 45,
      "outputs": [
        {
          "output_type": "stream",
          "name": "stdout",
          "text": [
            "71/71 [==============================] - 1s 14ms/step - loss: 0.9591 - accuracy: 0.8063\n",
            "Teste de perda: 0.9591064453125\n",
            "Teste de acurácia: 0.8063223361968994\n"
          ]
        }
      ]
    },
    {
      "cell_type": "code",
      "source": [
        "import pandas as pd\n",
        "import matplotlib.pyplot as plt\n",
        "\n",
        "pd.DataFrame(history.history).plot(figsize=(8,5))\n",
        "plt.grid(True)\n",
        "plt.gca().set_ylim(0, 1.5)\n",
        "plt.show()"
      ],
      "metadata": {
        "colab": {
          "base_uri": "https://localhost:8080/",
          "height": 445
        },
        "id": "9OHZ8Sflorqk",
        "outputId": "99e7a1c0-51be-4b22-de03-25ab1f85fa0c"
      },
      "execution_count": 51,
      "outputs": [
        {
          "output_type": "display_data",
          "data": {
            "text/plain": [
              "<Figure size 800x500 with 1 Axes>"
            ],
            "image/png": "[encoded data removed]"
          },
          "metadata": {}
        }
      ]
    }
  ]
}