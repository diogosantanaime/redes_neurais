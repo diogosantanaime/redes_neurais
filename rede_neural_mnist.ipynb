{
  "nbformat": 4,
  "nbformat_minor": 0,
  "metadata": {
    "colab": {
      "provenance": [],
      "authorship_tag": "ABX9TyMjWBzzih2vqNbrJvwkkvh5",
      "include_colab_link": true
    },
    "kernelspec": {
      "name": "python3",
      "display_name": "Python 3"
    },
    "language_info": {
      "name": "python"
    }
  },
  "cells": [
    {
      "cell_type": "markdown",
      "metadata": {
        "id": "view-in-github",
        "colab_type": "text"
      },
      "source": [
        "<a href=\"https://colab.research.google.com/github/diogosantanaime/redes_neurais/blob/main/rede_neural_mnist.ipynb\" target=\"_parent\"><img src=\"https://colab.research.google.com/assets/colab-badge.svg\" alt=\"Open In Colab\"/></a>"
      ]
    },
    {
      "cell_type": "code",
      "source": [
        "import urllib.request\n",
        "import numpy as np\n",
        "import os\n",
        "import gzip\n",
        "import shutil\n",
        "\n",
        "# URL base do conjunto de dados MNIST\n",
        "base_url = 'http://yann.lecun.com/exdb/mnist/'\n",
        "\n",
        "# Nomes dos arquivos para download\n",
        "file_names = ['train-images-idx3-ubyte.gz',\n",
        "              'train-labels-idx1-ubyte.gz',\n",
        "              't10k-images-idx3-ubyte.gz',\n",
        "              't10k-labels-idx1-ubyte.gz']\n",
        "\n",
        "# Diretório onde você deseja salvar os arquivos\n",
        "save_dir = './mnist_data/'\n",
        "\n",
        "# Cria o diretório se ele não existir\n",
        "if not os.path.exists(save_dir):\n",
        "    os.makedirs(save_dir)\n",
        "\n",
        "# Faz o download dos arquivos\n",
        "for file_name in file_names:\n",
        "    url = base_url + file_name\n",
        "    save_path = save_dir + file_name\n",
        "    urllib.request.urlretrieve(url, save_path)\n",
        "\n",
        "# Função para descompactar arquivos gzip\n",
        "def extract_gzip(file_path):\n",
        "    extract_path = file_path[:-3]  # Remove a extensão .gz do nome do arquivo\n",
        "    with gzip.open(file_path, 'rb') as f_in:\n",
        "        with open(extract_path, 'wb') as f_out:\n",
        "            shutil.copyfileobj(f_in, f_out)\n",
        "    return extract_path\n",
        "\n",
        "# Descompacta os arquivos\n",
        "extracted_files = []\n",
        "for file_name in file_names:\n",
        "    save_path = save_dir + file_name\n",
        "    extracted_file = extract_gzip(save_path)\n",
        "    extracted_files.append(extracted_file)\n",
        "\n",
        "# Carrega os dados de treinamento\n",
        "x_train_path = extracted_files[0]\n",
        "y_train_path = extracted_files[1]\n",
        "train_images = np.fromfile(x_train_path, dtype=np.uint8)[16:].reshape((-1, 28, 28))\n",
        "train_labels = np.fromfile(y_train_path, dtype=np.uint8)[8:]\n",
        "\n",
        "# Carrega os dados de teste\n",
        "x_test_path = extracted_files[2]\n",
        "y_test_path = extracted_files[3]\n",
        "test_images = np.fromfile(x_test_path, dtype=np.uint8)[16:].reshape((-1, 28, 28))\n",
        "test_labels = np.fromfile(y_test_path, dtype=np.uint8)[8:]\n",
        "\n",
        "# Exemplo de uso dos dados\n",
        "print('Número de amostras de treinamento:', len(train_images))\n",
        "print('Número de amostras de teste:', len(test_images))\n"
      ],
      "metadata": {
        "colab": {
          "base_uri": "https://localhost:8080/"
        },
        "id": "uvlli9FJ6a9K",
        "outputId": "83ca4a1f-c27e-4ab5-fa87-866a4f5e5558"
      },
      "execution_count": 9,
      "outputs": [
        {
          "output_type": "stream",
          "name": "stdout",
          "text": [
            "Número de amostras de treinamento: 60000\n",
            "Número de amostras de teste: 10000\n"
          ]
        }
      ]
    },
    {
      "cell_type": "code",
      "source": [
        "\n",
        "from tensorflow import keras\n",
        "from tensorflow.keras import layers\n",
        "\n",
        "model = keras.Sequential([\n",
        "    layers.Dense(512, activation=\"relu\"),\n",
        "    layers.Dense(10, activation=\"softmax\")\n",
        "])\n",
        "\n",
        "model.compile(optimizer=\"rmsprop\",\n",
        "              loss=\"sparse_categorical_crossentropy\",\n",
        "              metrics=[\"accuracy\"])\n",
        "\n",
        "train_images = train_images.reshape((60000, 28 * 28))\n",
        "train_images = train_images.astype(\"float32\") / 255\n",
        "test_images = test_images.reshape((10000, 28 * 28))\n",
        "test_images = test_images.astype(\"float32\") / 255\n",
        "\n",
        "model.fit(train_images, train_labels, epochs=5, batch_size=128)\n",
        "\n",
        "predicted = model.predict(test_images[0:1])\n",
        "\n",
        "test_loss, test_acc = model.evaluate(test_images, test_labels)\n",
        "print(f\"test_acc: {test_acc}\")"
      ],
      "metadata": {
        "colab": {
          "base_uri": "https://localhost:8080/"
        },
        "id": "edY_RSmg67Qy",
        "outputId": "dd5163b5-e9c8-45e4-b43f-200203d2c9ff"
      },
      "execution_count": 10,
      "outputs": [
        {
          "output_type": "stream",
          "name": "stdout",
          "text": [
            "Epoch 1/5\n",
            "469/469 [==============================] - 9s 19ms/step - loss: 0.2600 - accuracy: 0.9250\n",
            "Epoch 2/5\n",
            "469/469 [==============================] - 5s 11ms/step - loss: 0.1060 - accuracy: 0.9678\n",
            "Epoch 3/5\n",
            "469/469 [==============================] - 5s 11ms/step - loss: 0.0708 - accuracy: 0.9785\n",
            "Epoch 4/5\n",
            "469/469 [==============================] - 6s 13ms/step - loss: 0.0517 - accuracy: 0.9842\n",
            "Epoch 5/5\n",
            "469/469 [==============================] - 5s 10ms/step - loss: 0.0381 - accuracy: 0.9884\n",
            "1/1 [==============================] - 0s 61ms/step\n",
            "313/313 [==============================] - 1s 3ms/step - loss: 0.0646 - accuracy: 0.9801\n",
            "test_acc: 0.9800999760627747\n"
          ]
        }
      ]
    }
  ]
}