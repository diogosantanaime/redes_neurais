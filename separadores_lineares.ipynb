{
  "nbformat": 4,
  "nbformat_minor": 0,
  "metadata": {
    "colab": {
      "provenance": [],
      "authorship_tag": "ABX9TyOj1FBiG91IiJn9qv8HFci0",
      "include_colab_link": true
    },
    "kernelspec": {
      "name": "python3",
      "display_name": "Python 3"
    },
    "language_info": {
      "name": "python"
    }
  },
  "cells": [
    {
      "cell_type": "markdown",
      "metadata": {
        "id": "view-in-github",
        "colab_type": "text"
      },
      "source": [
        "<a href=\"https://colab.research.google.com/github/diogosantanaime/redes_neurais/blob/main/separadores_lineares.ipynb\" target=\"_parent\"><img src=\"https://colab.research.google.com/assets/colab-badge.svg\" alt=\"Open In Colab\"/></a>"
      ]
    },
    {
      "cell_type": "markdown",
      "source": [
        "1. Classificação usando a classe perceptron.\n"
      ],
      "metadata": {
        "id": "sWT-PDfRlX3k"
      }
    },
    {
      "cell_type": "code",
      "source": [
        "import numpy as np\n",
        "from sklearn.datasets import load_breast_cancer\n",
        "from sklearn.model_selection import train_test_split\n",
        "from sklearn.preprocessing import StandardScaler\n",
        "from sklearn.metrics import accuracy_score\n",
        "\n",
        "class Perceptron:\n",
        "    def __init__(self, learning_rate=0.01, num_epochs=100):\n",
        "        self.learning_rate = learning_rate\n",
        "        self.num_epochs = num_epochs\n",
        "\n",
        "    def train(self, X_train, y_train):\n",
        "        self.num_features = X_train.shape[1]\n",
        "        self.num_classes = len(np.unique(y_train))\n",
        "\n",
        "        self.weights = np.zeros((self.num_features, self.num_classes))\n",
        "        self.bias = np.zeros(self.num_classes)\n",
        "\n",
        "        for epoch in range(self.num_epochs):\n",
        "            for i in range(len(X_train)):\n",
        "                scores = np.dot(X_train[i], self.weights) + self.bias\n",
        "                predicted_class = np.argmax(scores)\n",
        "\n",
        "                if predicted_class != y_train[i]:\n",
        "                    self.weights[:, y_train[i]] += self.learning_rate * X_train[i]\n",
        "                    self.bias[y_train[i]] += self.learning_rate\n",
        "                    self.weights[:, predicted_class] -= self.learning_rate * X_train[i]\n",
        "                    self.bias[predicted_class] -= self.learning_rate\n",
        "\n",
        "    def predict(self, X_test):\n",
        "        scores = np.dot(X_test, self.weights) + self.bias\n",
        "        predicted_classes = np.argmax(scores, axis=1)\n",
        "        return predicted_classes\n",
        "\n",
        "# Carregar o conjunto de dados Breast Cancer Wisconsin\n",
        "cancer = load_breast_cancer()\n",
        "X, y = cancer.data, cancer.target\n",
        "\n",
        "# Pré-processamento dos dados\n",
        "scaler = StandardScaler()\n",
        "X = scaler.fit_transform(X)\n",
        "\n",
        "# Divisão em conjunto de treinamento e teste\n",
        "X_train, X_test, y_train, y_test = train_test_split(X, y, test_size=0.2, random_state=42)\n",
        "\n",
        "# Criar e treinar o perceptron linear\n",
        "perceptron = Perceptron()\n",
        "perceptron.train(X_train, y_train)\n",
        "\n",
        "# Fazer previsões no conjunto de teste\n",
        "predictions = perceptron.predict(X_test)\n",
        "\n",
        "# Calcular a precisão do modelo\n",
        "accuracy = accuracy_score(y_test, predictions)\n",
        "print(f\"Acurácia do modelo usando a classe perceptron: {accuracy}\")\n"
      ],
      "metadata": {
        "colab": {
          "base_uri": "https://localhost:8080/"
        },
        "id": "f256bRJwrdG0",
        "outputId": "32f9780b-ac94-4565-9e9f-f99e5187759e"
      },
      "execution_count": 16,
      "outputs": [
        {
          "output_type": "stream",
          "name": "stdout",
          "text": [
            "Acurácia do modelo usando a classe perceptron: 0.956140350877193\n"
          ]
        }
      ]
    },
    {
      "cell_type": "markdown",
      "source": [
        "2. Classificação usando o separador linear do scikit-learn."
      ],
      "metadata": {
        "id": "VEfL561olwxc"
      }
    },
    {
      "cell_type": "code",
      "source": [
        "from sklearn.svm import SVC\n",
        "\n",
        "# Criar e treinar o classificador SVM\n",
        "svm_classifier = SVC()\n",
        "svm_classifier.fit(X_train, y_train)\n",
        "\n",
        "# Fazer previsões no conjunto de teste\n",
        "predictions = svm_classifier.predict(X_test)\n",
        "\n",
        "# Calcular a precisão do modelo\n",
        "accuracy = accuracy_score(y_test, predictions)\n",
        "print(f\"Acurácia do modelo usando separador do scikit-learn: {accuracy}\")\n"
      ],
      "metadata": {
        "colab": {
          "base_uri": "https://localhost:8080/"
        },
        "id": "6vUhU1iVrnSN",
        "outputId": "ace42a43-e4da-4cc0-b403-ed33283f0fbf"
      },
      "execution_count": 15,
      "outputs": [
        {
          "output_type": "stream",
          "name": "stdout",
          "text": [
            "Acurácia do modelo usando separador do scikit-learn: 0.9736842105263158\n"
          ]
        }
      ]
    }
  ]
}